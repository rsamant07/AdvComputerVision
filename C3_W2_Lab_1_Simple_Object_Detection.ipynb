{
  "nbformat": 4,
  "nbformat_minor": 0,
  "metadata": {
    "colab": {
      "name": "C3_W2_Lab_1_Simple_Object_Detection.ipynb",
      "provenance": [],
      "collapsed_sections": [],
      "include_colab_link": true
    },
    "kernelspec": {
      "display_name": "Python 3",
      "language": "python",
      "name": "python3"
    },
    "language_info": {
      "codemirror_mode": {
        "name": "ipython",
        "version": 3
      },
      "file_extension": ".py",
      "mimetype": "text/x-python",
      "name": "python",
      "nbconvert_exporter": "python",
      "pygments_lexer": "ipython3",
      "version": "3.7.4"
    }
  },
  "cells": [
    {
      "cell_type": "markdown",
      "metadata": {
        "id": "view-in-github",
        "colab_type": "text"
      },
      "source": [
        "<a href=\"https://colab.research.google.com/github/rsamant07/AdvComputerVision/blob/main/C3_W2_Lab_1_Simple_Object_Detection.ipynb\" target=\"_parent\"><img src=\"https://colab.research.google.com/assets/colab-badge.svg\" alt=\"Open In Colab\"/></a>"
      ]
    },
    {
      "cell_type": "markdown",
      "metadata": {
        "id": "GFsfYvBT_QSC"
      },
      "source": [
        "# Simple Object Detection in Tensorflow\n",
        "\n",
        "This lab will walk you through how to use object detection models available in [Tensorflow Hub](https://www.tensorflow.org/hub). In the following sections, you will:\n",
        "\n",
        "* explore the Tensorflow Hub for object detection models\n",
        "* load the models in your workspace\n",
        "* preprocess an image for inference \n",
        "* run inference on the models and inspect the output\n",
        "\n",
        "Let's get started!"
      ]
    },
    {
      "cell_type": "markdown",
      "metadata": {
        "id": "CfkOds71_QSD"
      },
      "source": [
        "## Imports"
      ]
    },
    {
      "cell_type": "code",
      "metadata": {
        "id": "OEoRKdmByrb0"
      },
      "source": [
        "import tensorflow as tf\n",
        "import tensorflow_hub as hub\n",
        "from PIL import Image\n",
        "from PIL import ImageOps\n",
        "import tempfile\n",
        "from six.moves.urllib.request import urlopen\n",
        "from six import BytesIO"
      ],
      "execution_count": 1,
      "outputs": []
    },
    {
      "cell_type": "markdown",
      "metadata": {
        "id": "hnu47a1K_QSJ"
      },
      "source": [
        "## Utilities"
      ]
    },
    {
      "cell_type": "code",
      "metadata": {
        "id": "hOn6R2V5zD5B"
      },
      "source": [
        "def download_and_resize_image(url, new_width=256, new_height=256):\n",
        "    '''\n",
        "    Fetches an image online, resizes it and saves it locally.\n",
        "    \n",
        "    Args:\n",
        "        url (string) -- link to the image\n",
        "        new_width (int) -- size in pixels used for resizing the width of the image\n",
        "        new_height (int) -- size in pixels used for resizing the length of the image\n",
        "        \n",
        "    Returns:\n",
        "        (string) -- path to the saved image\n",
        "    '''\n",
        "    \n",
        "    \n",
        "    # create a temporary file ending with \".jpg\"\n",
        "    _, filename = tempfile.mkstemp(suffix=\".jpg\")\n",
        "    \n",
        "    # opens the given URL\n",
        "    response = urlopen(url)\n",
        "    \n",
        "    # reads the image fetched from the URL\n",
        "    image_data = response.read()\n",
        "    \n",
        "    # puts the image data in memory buffer\n",
        "    image_data = BytesIO(image_data)\n",
        "    \n",
        "    # opens the image\n",
        "    pil_image = Image.open(image_data)\n",
        "    \n",
        "    # resizes the image. will crop if aspect ratio is different.\n",
        "    pil_image = ImageOps.fit(pil_image, (new_width, new_height), Image.ANTIALIAS)\n",
        "    \n",
        "    # converts to the RGB colorspace\n",
        "    pil_image_rgb = pil_image.convert(\"RGB\")\n",
        "    \n",
        "    # saves the image to the temporary file created earlier\n",
        "    pil_image_rgb.save(filename, format=\"JPEG\", quality=90)\n",
        "    \n",
        "    print(\"Image downloaded to %s.\" % filename)\n",
        "    \n",
        "    return filename"
      ],
      "execution_count": 2,
      "outputs": []
    },
    {
      "cell_type": "code",
      "metadata": {
        "id": "WTdRxtIvz2S7"
      },
      "source": [
        "def run_detector(detector, path):\n",
        "    '''\n",
        "    Runs inference on a local file using an object detection model.\n",
        "    \n",
        "    Args:\n",
        "        detector (model) -- an object detection model loaded from TF Hub\n",
        "        path (string) -- path to an image saved locally\n",
        "    '''\n",
        "    \n",
        "    # load an image tensor from a local file path\n",
        "    img = load_img(path)\n",
        "\n",
        "    # add a batch dimension in front of the tensor\n",
        "    converted_img  = tf.image.convert_image_dtype(img, tf.float32)[tf.newaxis, ...]\n",
        "    \n",
        "    # run inference using the model\n",
        "    result = detector(converted_img)\n",
        "\n",
        "    # save the results in a dictionary\n",
        "    result = {key:value.numpy() for key,value in result.items()}\n",
        "\n",
        "    # print results\n",
        "    print(\"Found %d objects.\" % len(result[\"detection_scores\"]))\n",
        "\n",
        "    print(result[\"detection_scores\"])\n",
        "    print(result[\"detection_class_entities\"])\n",
        "    print(result[\"detection_boxes\"])\n"
      ],
      "execution_count": 3,
      "outputs": []
    },
    {
      "cell_type": "code",
      "metadata": {
        "id": "-r0-Q8We08tw"
      },
      "source": [
        "def load_img(path):\n",
        "    '''\n",
        "    Loads a JPEG image and converts it to a tensor.\n",
        "    \n",
        "    Args:\n",
        "        path (string) -- path to a locally saved JPEG image\n",
        "    \n",
        "    Returns:\n",
        "        (tensor) -- an image tensor\n",
        "    '''\n",
        "    \n",
        "    # read the file\n",
        "    img = tf.io.read_file(path)\n",
        "    \n",
        "    # convert to a tensor\n",
        "    img = tf.image.decode_jpeg(img, channels=3)\n",
        "    \n",
        "    return img"
      ],
      "execution_count": 4,
      "outputs": []
    },
    {
      "cell_type": "markdown",
      "metadata": {
        "id": "u5IK1zkU_QSV"
      },
      "source": [
        "## Download the model from Tensorflow Hub\n",
        "\n",
        "Tensorflow Hub is a repository of trained machine learning models which you can reuse in your own projects. You can see the domains covered [here](https://tfhub.dev/) and its subcategories. For this lab, you will want to look at the [image object detection subcategory](https://tfhub.dev/s?module-type=image-object-detection). You can select a model to see more information about it and copy the URL so you can download it to your workspace. We selected a couple of these models for this particular lab and loaded the first one."
      ]
    },
    {
      "cell_type": "code",
      "metadata": {
        "id": "C9pCzz4uy20U",
        "outputId": "2bb0cf1b-42e0-4579-8817-4a363f8ebf2c",
        "colab": {
          "base_uri": "https://localhost:8080/"
        }
      },
      "source": [
        "# you can switch the commented lines here to pick the other model\n",
        "module_handle = \"https://tfhub.dev/google/faster_rcnn/openimages_v4/inception_resnet_v2/1\"\n",
        "#module_handle = \"https://tfhub.dev/google/openimages_v4/ssd/mobilenet_v2/1\"\n",
        "\n",
        "# load the chosen model\n",
        "detector = hub.load(module_handle).signatures['default']"
      ],
      "execution_count": 5,
      "outputs": [
        {
          "output_type": "stream",
          "text": [
            "INFO:tensorflow:Saver not created because there are no variables in the graph to restore\n"
          ],
          "name": "stdout"
        },
        {
          "output_type": "stream",
          "text": [
            "INFO:tensorflow:Saver not created because there are no variables in the graph to restore\n"
          ],
          "name": "stderr"
        }
      ]
    },
    {
      "cell_type": "markdown",
      "metadata": {
        "id": "RekW8x6h_QSY"
      },
      "source": [
        "Some models in the Tensorflow hub can be used for different tasks. For that, its documentation should show what *signature* to use when running the model. For object detection models, it will by default accept a batch of image tensors and output a dictionary describing the objects detected. If you want to see if a model has more than one signature then you can do something like `print(hub.load(module_handle).signatures.keys())`. In our case, the models we will be using only have the `default` signature so you don't have to worry about other types."
      ]
    },
    {
      "cell_type": "markdown",
      "metadata": {
        "id": "8BBLoYbA_QSZ"
      },
      "source": [
        "## Download and preprocess an image\n",
        "\n",
        "We can now get a sample image online and save it locally. We will just use the original width and height of the image but feel free to modify it and see what results you get."
      ]
    },
    {
      "cell_type": "code",
      "metadata": {
        "id": "Co_Qc0FO_QSa",
        "outputId": "41a441cd-e4b2-46b8-ee7c-a6152b7603ad",
        "colab": {
          "base_uri": "https://localhost:8080/"
        }
      },
      "source": [
        "image_url = \"https://upload.wikimedia.org/wikipedia/commons/f/fb/20130807_dublin014.JPG\"\n",
        "\n",
        "# download the image and use the original height and width\n",
        "downloaded_image_path = download_and_resize_image(image_url, 3872, 2592)"
      ],
      "execution_count": 7,
      "outputs": [
        {
          "output_type": "stream",
          "text": [
            "Image downloaded to /tmp/tmpp3wnfhe_.jpg.\n"
          ],
          "name": "stdout"
        }
      ]
    },
    {
      "cell_type": "markdown",
      "metadata": {
        "id": "s3k5jDXA_QSd"
      },
      "source": [
        "## Run inference on the image\n",
        "\n",
        "You can run your detector by calling our utility function. This will print the number of objects found followed by three lists: \n",
        "\n",
        "* the detection scores of each object found (i.e. how confident the model is), \n",
        "* the classes of each object found, \n",
        "* the bounding boxes of each object\n",
        "\n",
        "You will get to see how to overlay these information on the original image in the next sections and in the assignment."
      ]
    },
    {
      "cell_type": "code",
      "metadata": {
        "id": "csanHvDIz4_t",
        "outputId": "69726a53-af45-4bb5-ce1b-2b665d8ac139",
        "colab": {
          "base_uri": "https://localhost:8080/"
        }
      },
      "source": [
        "# runs the object detection model and prints information about the objects found\n",
        "run_detector(detector, downloaded_image_path)"
      ],
      "execution_count": 8,
      "outputs": [
        {
          "output_type": "stream",
          "text": [
            "Found 100 objects.\n",
            "[0.6532174  0.61050487 0.60152495 0.59255666 0.5917778  0.58154964\n",
            " 0.5505326  0.49575576 0.47424877 0.47322133 0.44066477 0.4051141\n",
            " 0.39803803 0.3940655  0.3714858  0.36155996 0.3615076  0.34689227\n",
            " 0.33362356 0.31252927 0.2887799  0.25758353 0.25748897 0.25196072\n",
            " 0.24782148 0.23412406 0.20432054 0.20324662 0.17988308 0.17964761\n",
            " 0.1737451  0.16431497 0.16031103 0.15895295 0.15620388 0.15468779\n",
            " 0.14754511 0.13622598 0.12740111 0.12555654 0.12102704 0.11813035\n",
            " 0.11387308 0.11229108 0.11129158 0.09718709 0.09137249 0.08976003\n",
            " 0.0888024  0.08633561 0.08337442 0.08095147 0.07988831 0.0774143\n",
            " 0.0773216  0.07631025 0.07507852 0.07386057 0.07233316 0.07204045\n",
            " 0.07110182 0.06935571 0.06825587 0.06427855 0.0624855  0.06226387\n",
            " 0.06211156 0.05940022 0.05798778 0.05784462 0.05725535 0.05346677\n",
            " 0.05304343 0.05242869 0.04892596 0.04813037 0.04578473 0.04424176\n",
            " 0.04337559 0.04277798 0.04262636 0.04163509 0.04081756 0.03975982\n",
            " 0.03945961 0.03944291 0.03863973 0.03769058 0.03759593 0.03566739\n",
            " 0.03359377 0.03333249 0.03275878 0.03231584 0.03134292 0.02978723\n",
            " 0.02858371 0.02856135 0.02822309 0.02787886]\n",
            "[b'Person' b'Person' b'Person' b'Person' b'Footwear' b'Person' b'Building'\n",
            " b'Bicycle' b'Window' b'Building' b'Person' b'Wheel' b'Building'\n",
            " b'Building' b'Person' b'Wheel' b'Building' b'Window' b'Window'\n",
            " b'Building' b'Person' b'Van' b'Person' b'Bicycle wheel' b'Person'\n",
            " b'Window' b'Window' b'Bicycle' b'Building' b'Window' b'Window' b'Man'\n",
            " b'Person' b'Person' b'Woman' b'Clothing' b'Bicycle wheel' b'Window'\n",
            " b'Person' b'Window' b'Land vehicle' b'Land vehicle' b'Clothing'\n",
            " b'Bicycle' b'Window' b'House' b'Land vehicle' b'Land vehicle' b'House'\n",
            " b'Man' b'Window' b'Clothing' b'Footwear' b'Person' b'Window' b'Man'\n",
            " b'Man' b'House' b'Person' b'Building' b'Clothing' b'Window' b'Person'\n",
            " b'Jeans' b'Man' b'Furniture' b'Person' b'Person' b'Person'\n",
            " b'Land vehicle' b'Person' b'Window' b'House' b'Woman' b'Window' b'Man'\n",
            " b'Person' b'Man' b'Clothing' b'Bicycle' b'Man' b'Person' b'Window'\n",
            " b'Person' b'Car' b'Man' b'Car' b'Chair' b'House' b'Window' b'Clothing'\n",
            " b'Tire' b'Clothing' b'Window' b'Land vehicle' b'Window' b'Man' b'Window'\n",
            " b'Bus' b'Clothing']\n",
            "[[5.12787819e-01 5.29258847e-01 6.01622522e-01 5.52077651e-01]\n",
            " [5.19631088e-01 6.01512671e-01 6.46177113e-01 6.34626806e-01]\n",
            " [5.05507112e-01 5.00440836e-01 6.01288378e-01 5.23084342e-01]\n",
            " [4.86331582e-01 4.12729561e-01 6.78829789e-01 4.59919751e-01]\n",
            " [8.15191388e-01 9.56122279e-01 8.42702985e-01 9.87146139e-01]\n",
            " [4.95409906e-01 9.23548341e-01 8.35687816e-01 9.99051571e-01]\n",
            " [1.14791868e-02 1.22223590e-02 7.38669753e-01 4.24632877e-01]\n",
            " [5.77677429e-01 3.66453379e-01 7.12771595e-01 4.83375698e-01]\n",
            " [0.00000000e+00 1.19262360e-01 2.23896131e-01 1.83930472e-01]\n",
            " [7.74120837e-02 4.12998110e-01 5.79539895e-01 5.60446203e-01]\n",
            " [5.13818145e-01 7.48031437e-01 5.91993213e-01 7.66611218e-01]\n",
            " [6.32137895e-01 3.59925479e-01 7.03870296e-01 4.11826164e-01]\n",
            " [0.00000000e+00 7.97051966e-01 6.73368454e-01 1.00000000e+00]\n",
            " [1.60234068e-02 6.84869528e-01 5.58761537e-01 8.11168015e-01]\n",
            " [5.00276923e-01 3.76966298e-01 6.33272946e-01 4.14501339e-01]\n",
            " [6.40540302e-01 4.45089400e-01 7.02983618e-01 4.83437657e-01]\n",
            " [0.00000000e+00 2.19054237e-01 6.60400927e-01 4.33263451e-01]\n",
            " [1.93080271e-03 0.00000000e+00 1.39376864e-01 2.62956899e-02]\n",
            " [2.57197069e-03 9.66668665e-01 1.53728694e-01 1.00000000e+00]\n",
            " [5.57250984e-04 1.52055710e-03 7.65210629e-01 2.69977152e-01]\n",
            " [5.04524827e-01 3.61187756e-01 6.34731770e-01 3.85342211e-01]\n",
            " [4.83405888e-01 6.19650841e-01 5.62705696e-01 6.61556125e-01]\n",
            " [4.98067319e-01 3.64576191e-01 6.61239445e-01 4.04972345e-01]\n",
            " [6.31278813e-01 3.60364169e-01 7.04153776e-01 4.11501348e-01]\n",
            " [5.21813869e-01 5.77647567e-01 5.87599933e-01 6.00718856e-01]\n",
            " [2.19569609e-01 3.48744750e-01 3.38372618e-01 3.77075404e-01]\n",
            " [1.24863066e-01 2.50912935e-01 2.79940903e-01 2.81580776e-01]\n",
            " [5.77186048e-01 3.62296611e-01 7.07020819e-01 4.41811115e-01]\n",
            " [2.57474422e-01 5.67561567e-01 5.31102896e-01 6.87727273e-01]\n",
            " [4.20639627e-02 8.74773145e-01 2.52773494e-01 9.13028836e-01]\n",
            " [1.56351045e-01 4.43401158e-01 2.22213224e-01 4.75786090e-01]\n",
            " [5.01968026e-01 9.21486855e-01 8.36406708e-01 1.00000000e+00]\n",
            " [5.23622572e-01 5.70259511e-01 5.84519446e-01 5.91583431e-01]\n",
            " [5.13246417e-01 6.79276407e-01 5.50994515e-01 6.92579925e-01]\n",
            " [5.19120276e-01 5.99985361e-01 6.46378398e-01 6.34036422e-01]\n",
            " [5.24297774e-01 9.24962044e-01 8.10777128e-01 9.97999549e-01]\n",
            " [6.38187230e-01 4.42918181e-01 7.01653898e-01 4.84097719e-01]\n",
            " [3.42190564e-02 3.55574757e-01 1.62255093e-01 3.74921203e-01]\n",
            " [4.88476783e-01 4.53496963e-01 6.21795475e-01 4.79725718e-01]\n",
            " [9.28805675e-04 3.07699054e-01 1.06533423e-01 3.32059711e-01]\n",
            " [4.83008981e-01 6.19908273e-01 5.64775169e-01 6.60696924e-01]\n",
            " [5.82192898e-01 3.64929765e-01 7.13880658e-01 4.84707862e-01]\n",
            " [5.23547709e-01 7.49199331e-01 5.85378110e-01 7.65317559e-01]\n",
            " [6.09156787e-01 4.26705897e-01 7.05165207e-01 4.87089008e-01]\n",
            " [3.51368606e-01 9.74856079e-01 5.53130627e-01 9.98878717e-01]\n",
            " [0.00000000e+00 8.11223269e-01 6.86410844e-01 9.97151375e-01]\n",
            " [5.76297641e-01 3.57461751e-01 7.04812348e-01 4.40279901e-01]\n",
            " [5.64892411e-01 3.63023102e-01 7.08650291e-01 4.16036338e-01]\n",
            " [1.09374998e-02 2.33155321e-02 7.26522923e-01 4.21747774e-01]\n",
            " [4.84686643e-01 4.10686046e-01 6.94686472e-01 4.63092834e-01]\n",
            " [8.09777379e-02 3.84715289e-01 2.07808718e-01 4.11746383e-01]\n",
            " [5.38284421e-01 6.03573740e-01 6.34776115e-01 6.34408653e-01]\n",
            " [6.29844606e-01 6.14971519e-01 6.44933462e-01 6.25384450e-01]\n",
            " [5.02758026e-01 3.82395953e-01 5.96146226e-01 4.12722319e-01]\n",
            " [0.00000000e+00 1.24522885e-02 1.40193507e-01 2.47382112e-02]\n",
            " [5.14441311e-01 7.47791588e-01 5.91985822e-01 7.66827345e-01]\n",
            " [5.06182134e-01 5.00406921e-01 6.00681305e-01 5.23312032e-01]\n",
            " [0.00000000e+00 2.11283579e-01 6.50794089e-01 4.34300780e-01]\n",
            " [4.89451557e-01 4.54391301e-01 5.72340131e-01 4.76470768e-01]\n",
            " [0.00000000e+00 7.06215978e-01 6.16998792e-01 8.66189659e-01]\n",
            " [5.09172916e-01 4.16281193e-01 6.69304490e-01 4.59598720e-01]\n",
            " [4.65172483e-03 8.03094208e-01 1.59853578e-01 8.40397060e-01]\n",
            " [5.26151001e-01 5.68352938e-01 5.79440355e-01 5.82810223e-01]\n",
            " [6.71924829e-01 9.40277696e-01 8.21276009e-01 9.89250779e-01]\n",
            " [5.02770185e-01 3.73883098e-01 6.46991491e-01 4.12972301e-01]\n",
            " [5.74243903e-01 2.67400861e-01 6.57769084e-01 3.20318550e-01]\n",
            " [4.86056775e-01 4.44508791e-01 6.24788880e-01 4.73503351e-01]\n",
            " [5.17248929e-01 7.56969213e-01 5.88517189e-01 7.71465480e-01]\n",
            " [5.23374975e-01 5.57850122e-01 5.79139531e-01 5.73541582e-01]\n",
            " [6.12461030e-01 4.27332461e-01 7.06080198e-01 4.88251865e-01]\n",
            " [5.24124146e-01 5.61553180e-01 5.78385353e-01 5.80475152e-01]\n",
            " [0.00000000e+00 2.44231746e-01 6.07754737e-02 2.93613434e-01]\n",
            " [1.48921460e-02 2.14739377e-03 7.45442033e-01 2.59790719e-01]\n",
            " [4.93236154e-01 9.23950195e-01 8.37110877e-01 9.97755051e-01]\n",
            " [8.37683585e-03 2.42165715e-01 4.97285351e-02 2.83162564e-01]\n",
            " [5.05334914e-01 3.60175252e-01 6.43561006e-01 3.91461760e-01]\n",
            " [5.13099134e-01 5.23794115e-01 6.00504339e-01 5.42967975e-01]\n",
            " [5.20421326e-01 6.00978673e-01 6.46124125e-01 6.34366393e-01]\n",
            " [5.18224835e-01 5.03395557e-01 5.97548664e-01 5.22683859e-01]\n",
            " [5.94199121e-01 3.61327976e-01 7.05465913e-01 4.15853351e-01]\n",
            " [5.13256431e-01 6.79316938e-01 5.50533950e-01 6.92482173e-01]\n",
            " [5.22302687e-01 5.36195457e-01 5.97564995e-01 5.53163290e-01]\n",
            " [4.29876417e-01 8.28702271e-01 5.89928210e-01 8.64323139e-01]\n",
            " [5.04884601e-01 3.89427006e-01 6.15080714e-01 4.19936121e-01]\n",
            " [5.26588559e-01 6.27176881e-01 5.63299775e-01 6.53728902e-01]\n",
            " [5.01304924e-01 3.64189029e-01 6.59964740e-01 4.03793275e-01]\n",
            " [5.15171170e-01 6.24104798e-01 5.63795328e-01 6.58002079e-01]\n",
            " [5.73137939e-01 2.66902655e-01 6.66162014e-01 3.18640232e-01]\n",
            " [8.34235176e-02 4.07414317e-01 5.84092438e-01 5.58522940e-01]\n",
            " [2.88196921e-01 4.77984577e-04 4.14364636e-01 3.65995765e-02]\n",
            " [4.97272849e-01 4.55296665e-01 5.83817124e-01 4.77936029e-01]\n",
            " [6.27168000e-01 3.61024052e-01 7.05996811e-01 4.09780174e-01]\n",
            " [5.15861034e-01 3.80056977e-01 5.96893847e-01 4.11758274e-01]\n",
            " [1.18098035e-02 3.08121800e-01 9.72859487e-02 3.25038970e-01]\n",
            " [5.12501717e-01 6.23653352e-01 5.62422156e-01 6.57641888e-01]\n",
            " [4.01003152e-01 8.85088801e-01 5.81281602e-01 9.39214468e-01]\n",
            " [5.13853133e-01 5.29484570e-01 6.02009714e-01 5.52362800e-01]\n",
            " [0.00000000e+00 1.00606047e-02 1.36156827e-01 3.16007212e-02]\n",
            " [4.80426341e-01 6.20422781e-01 5.65284550e-01 6.60150290e-01]\n",
            " [5.19355476e-01 3.61840397e-01 6.24995410e-01 3.84919673e-01]]\n"
          ],
          "name": "stdout"
        }
      ]
    }
  ]
}